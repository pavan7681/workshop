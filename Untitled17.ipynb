{
  "nbformat": 4,
  "nbformat_minor": 0,
  "metadata": {
    "colab": {
      "name": "Untitled17.ipynb",
      "provenance": [],
      "authorship_tag": "ABX9TyOCIE3peO0QShDRnZfqlrte",
      "include_colab_link": true
    },
    "kernelspec": {
      "name": "python3",
      "display_name": "Python 3"
    },
    "language_info": {
      "name": "python"
    }
  },
  "cells": [
    {
      "cell_type": "markdown",
      "metadata": {
        "id": "view-in-github",
        "colab_type": "text"
      },
      "source": [
        "<a href=\"https://colab.research.google.com/github/pavan7681/workshop/blob/master/Untitled17.ipynb\" target=\"_parent\"><img src=\"https://colab.research.google.com/assets/colab-badge.svg\" alt=\"Open In Colab\"/></a>"
      ]
    },
    {
      "cell_type": "code",
      "execution_count": 1,
      "metadata": {
        "id": "R3aUwUFyWrW-"
      },
      "outputs": [],
      "source": [
        "import numpy as np\n",
        "import pandas as pd\n",
        "import matplotlib.pyplot as plt"
      ]
    },
    {
      "cell_type": "code",
      "source": [
        "class Neuralfunctions:\n",
        "    def __init__(self,n):\n",
        "        self.n = n\n",
        "        \n",
        "    def hardlim(self):\n",
        "        if self.n<0:\n",
        "            return -1\n",
        "        elif self.n >=0:\n",
        "            return 1\n",
        "        else:\n",
        "            return 0\n",
        "\n",
        "    def sigmoid(self):\n",
        "        return 1/(1+np.exp(-self.n))\n",
        "    \n",
        "    def tansig(self):\n",
        "        num = np.exp(self.n) - np.exp(-self.n)\n",
        "        den = np.exp(self.n) + np.exp(-self.n)\n",
        "        return num/den\n",
        "   "
      ],
      "metadata": {
        "id": "5BgX-M2RW1S0"
      },
      "execution_count": 19,
      "outputs": []
    },
    {
      "cell_type": "code",
      "source": [
        "df = pd.read_csv('iris.data.csv')\n",
        "df.head()"
      ],
      "metadata": {
        "colab": {
          "base_uri": "https://localhost:8080/",
          "height": 206
        },
        "id": "Y7X5VRXEW1NU",
        "outputId": "a4cc9d9a-6048-400d-d2cc-fbc3277ea6df"
      },
      "execution_count": 12,
      "outputs": [
        {
          "output_type": "execute_result",
          "data": {
            "text/html": [
              "\n",
              "  <div id=\"df-b0c8ab8d-3936-4597-bd9c-ec7f306ff81f\">\n",
              "    <div class=\"colab-df-container\">\n",
              "      <div>\n",
              "<style scoped>\n",
              "    .dataframe tbody tr th:only-of-type {\n",
              "        vertical-align: middle;\n",
              "    }\n",
              "\n",
              "    .dataframe tbody tr th {\n",
              "        vertical-align: top;\n",
              "    }\n",
              "\n",
              "    .dataframe thead th {\n",
              "        text-align: right;\n",
              "    }\n",
              "</style>\n",
              "<table border=\"1\" class=\"dataframe\">\n",
              "  <thead>\n",
              "    <tr style=\"text-align: right;\">\n",
              "      <th></th>\n",
              "      <th>5.1</th>\n",
              "      <th>3.5</th>\n",
              "      <th>1.4</th>\n",
              "      <th>0.2</th>\n",
              "      <th>Iris-setosa</th>\n",
              "    </tr>\n",
              "  </thead>\n",
              "  <tbody>\n",
              "    <tr>\n",
              "      <th>0</th>\n",
              "      <td>4.9</td>\n",
              "      <td>3.0</td>\n",
              "      <td>1.4</td>\n",
              "      <td>0.2</td>\n",
              "      <td>Iris-setosa</td>\n",
              "    </tr>\n",
              "    <tr>\n",
              "      <th>1</th>\n",
              "      <td>4.7</td>\n",
              "      <td>3.2</td>\n",
              "      <td>1.3</td>\n",
              "      <td>0.2</td>\n",
              "      <td>Iris-setosa</td>\n",
              "    </tr>\n",
              "    <tr>\n",
              "      <th>2</th>\n",
              "      <td>4.6</td>\n",
              "      <td>3.1</td>\n",
              "      <td>1.5</td>\n",
              "      <td>0.2</td>\n",
              "      <td>Iris-setosa</td>\n",
              "    </tr>\n",
              "    <tr>\n",
              "      <th>3</th>\n",
              "      <td>5.0</td>\n",
              "      <td>3.6</td>\n",
              "      <td>1.4</td>\n",
              "      <td>0.2</td>\n",
              "      <td>Iris-setosa</td>\n",
              "    </tr>\n",
              "    <tr>\n",
              "      <th>4</th>\n",
              "      <td>5.4</td>\n",
              "      <td>3.9</td>\n",
              "      <td>1.7</td>\n",
              "      <td>0.4</td>\n",
              "      <td>Iris-setosa</td>\n",
              "    </tr>\n",
              "  </tbody>\n",
              "</table>\n",
              "</div>\n",
              "      <button class=\"colab-df-convert\" onclick=\"convertToInteractive('df-b0c8ab8d-3936-4597-bd9c-ec7f306ff81f')\"\n",
              "              title=\"Convert this dataframe to an interactive table.\"\n",
              "              style=\"display:none;\">\n",
              "        \n",
              "  <svg xmlns=\"http://www.w3.org/2000/svg\" height=\"24px\"viewBox=\"0 0 24 24\"\n",
              "       width=\"24px\">\n",
              "    <path d=\"M0 0h24v24H0V0z\" fill=\"none\"/>\n",
              "    <path d=\"M18.56 5.44l.94 2.06.94-2.06 2.06-.94-2.06-.94-.94-2.06-.94 2.06-2.06.94zm-11 1L8.5 8.5l.94-2.06 2.06-.94-2.06-.94L8.5 2.5l-.94 2.06-2.06.94zm10 10l.94 2.06.94-2.06 2.06-.94-2.06-.94-.94-2.06-.94 2.06-2.06.94z\"/><path d=\"M17.41 7.96l-1.37-1.37c-.4-.4-.92-.59-1.43-.59-.52 0-1.04.2-1.43.59L10.3 9.45l-7.72 7.72c-.78.78-.78 2.05 0 2.83L4 21.41c.39.39.9.59 1.41.59.51 0 1.02-.2 1.41-.59l7.78-7.78 2.81-2.81c.8-.78.8-2.07 0-2.86zM5.41 20L4 18.59l7.72-7.72 1.47 1.35L5.41 20z\"/>\n",
              "  </svg>\n",
              "      </button>\n",
              "      \n",
              "  <style>\n",
              "    .colab-df-container {\n",
              "      display:flex;\n",
              "      flex-wrap:wrap;\n",
              "      gap: 12px;\n",
              "    }\n",
              "\n",
              "    .colab-df-convert {\n",
              "      background-color: #E8F0FE;\n",
              "      border: none;\n",
              "      border-radius: 50%;\n",
              "      cursor: pointer;\n",
              "      display: none;\n",
              "      fill: #1967D2;\n",
              "      height: 32px;\n",
              "      padding: 0 0 0 0;\n",
              "      width: 32px;\n",
              "    }\n",
              "\n",
              "    .colab-df-convert:hover {\n",
              "      background-color: #E2EBFA;\n",
              "      box-shadow: 0px 1px 2px rgba(60, 64, 67, 0.3), 0px 1px 3px 1px rgba(60, 64, 67, 0.15);\n",
              "      fill: #174EA6;\n",
              "    }\n",
              "\n",
              "    [theme=dark] .colab-df-convert {\n",
              "      background-color: #3B4455;\n",
              "      fill: #D2E3FC;\n",
              "    }\n",
              "\n",
              "    [theme=dark] .colab-df-convert:hover {\n",
              "      background-color: #434B5C;\n",
              "      box-shadow: 0px 1px 3px 1px rgba(0, 0, 0, 0.15);\n",
              "      filter: drop-shadow(0px 1px 2px rgba(0, 0, 0, 0.3));\n",
              "      fill: #FFFFFF;\n",
              "    }\n",
              "  </style>\n",
              "\n",
              "      <script>\n",
              "        const buttonEl =\n",
              "          document.querySelector('#df-b0c8ab8d-3936-4597-bd9c-ec7f306ff81f button.colab-df-convert');\n",
              "        buttonEl.style.display =\n",
              "          google.colab.kernel.accessAllowed ? 'block' : 'none';\n",
              "\n",
              "        async function convertToInteractive(key) {\n",
              "          const element = document.querySelector('#df-b0c8ab8d-3936-4597-bd9c-ec7f306ff81f');\n",
              "          const dataTable =\n",
              "            await google.colab.kernel.invokeFunction('convertToInteractive',\n",
              "                                                     [key], {});\n",
              "          if (!dataTable) return;\n",
              "\n",
              "          const docLinkHtml = 'Like what you see? Visit the ' +\n",
              "            '<a target=\"_blank\" href=https://colab.research.google.com/notebooks/data_table.ipynb>data table notebook</a>'\n",
              "            + ' to learn more about interactive tables.';\n",
              "          element.innerHTML = '';\n",
              "          dataTable['output_type'] = 'display_data';\n",
              "          await google.colab.output.renderOutput(dataTable, element);\n",
              "          const docLink = document.createElement('div');\n",
              "          docLink.innerHTML = docLinkHtml;\n",
              "          element.appendChild(docLink);\n",
              "        }\n",
              "      </script>\n",
              "    </div>\n",
              "  </div>\n",
              "  "
            ],
            "text/plain": [
              "   5.1  3.5  1.4  0.2  Iris-setosa\n",
              "0  4.9  3.0  1.4  0.2  Iris-setosa\n",
              "1  4.7  3.2  1.3  0.2  Iris-setosa\n",
              "2  4.6  3.1  1.5  0.2  Iris-setosa\n",
              "3  5.0  3.6  1.4  0.2  Iris-setosa\n",
              "4  5.4  3.9  1.7  0.4  Iris-setosa"
            ]
          },
          "metadata": {},
          "execution_count": 12
        }
      ]
    },
    {
      "cell_type": "code",
      "source": [
        "X = np.array(df)[:,0:4]\n",
        "X[:5]"
      ],
      "metadata": {
        "colab": {
          "base_uri": "https://localhost:8080/"
        },
        "id": "zI5boZLaYYbc",
        "outputId": "d8012ded-e1b6-4f11-ece8-f5d0b9832056"
      },
      "execution_count": 13,
      "outputs": [
        {
          "output_type": "execute_result",
          "data": {
            "text/plain": [
              "array([[4.9, 3.0, 1.4, 0.2],\n",
              "       [4.7, 3.2, 1.3, 0.2],\n",
              "       [4.6, 3.1, 1.5, 0.2],\n",
              "       [5.0, 3.6, 1.4, 0.2],\n",
              "       [5.4, 3.9, 1.7, 0.4]], dtype=object)"
            ]
          },
          "metadata": {},
          "execution_count": 13
        }
      ]
    },
    {
      "cell_type": "code",
      "source": [
        "ao1_list = []\n",
        "ao2_list = []\n",
        "ao3_list = []\n",
        "\n",
        "for i in X:\n",
        "    w = np.random.rand(4)\n",
        "    net = np.dot(i,w.T)\n",
        "    print(net)"
      ],
      "metadata": {
        "id": "aVOBu52jdSz5"
      },
      "execution_count": null,
      "outputs": []
    },
    {
      "cell_type": "code",
      "source": [
        "class Output:\n",
        "    def __init__(self,x):\n",
        "      self.x = x\n",
        "    \n",
        "    def nuron_drawhist(self):\n",
        "        ao1_list = []\n",
        "        ao2_list = []\n",
        "        ao3_list = []\n",
        "\n",
        "        for i in self.x:\n",
        "            w = np.random.rand(4)\n",
        "\n",
        "            net = np.dot(i,w.T)\n",
        "            obj2 = Neuralfunctions(net)\n",
        "\n",
        "            ao1 = obj2.hardlim()\n",
        "            ao2 = obj2.sigmoid()\n",
        "            ao3 = obj2.tansig()\n",
        "\n",
        "            ao1_list.append(ao1)\n",
        "            ao2_list.append(ao2)\n",
        "            ao3_list.append(ao3)\n",
        "\n",
        "        plt.subplot(1,3,1)\n",
        "        plt.hist(ao1_list,bins= 5)\n",
        "        plt.title('Hard Lim')\n",
        "\n",
        "        plt.subplot(1,3,2)\n",
        "        plt.hist(ao2_list, bins=5)\n",
        "        plt.title('Log Sigmoidal')\n",
        "\n",
        "        plt.subplot(1,3,3)\n",
        "        plt.hist(ao3_list, bins= 5)\n",
        "        plt.title('Tan Sig')\n",
        "\n",
        "        plt.tight_layout()\n",
        "\n",
        "        plt.show()\n",
        "\n",
        "    def nuron_drawScatter(self):\n",
        "        ao1_list = []\n",
        "        ao2_list = []\n",
        "        ao3_list = []\n",
        "\n",
        "        for i in self.x:\n",
        "            w = np.random.rand(4)\n",
        "\n",
        "            net = np.dot(i,w.T)\n",
        "\n",
        "            obj3 = Neuralfunctions(net)\n",
        "            ao1 = obj3.hardlim()\n",
        "            ao2 = obj3.sigmoid()\n",
        "            ao3 = obj3.tansig()\n",
        "\n",
        "            ao1_list.append(ao1)\n",
        "            ao2_list.append(ao2)\n",
        "            ao3_list.append(ao3)\n",
        "        ax = plt.axes(projection = '3d')\n",
        "        ax.scatter3D(ao1_list,ao2_list, ao3_list)\n",
        "        ax.set_xlabel('Hard Lim')\n",
        "        ax.set_ylabel('Log Sigmoidal')\n",
        "        ax.set_zlabel('Tan Sig')\n",
        "\n",
        "        plt.show()\n",
        "\n",
        "    def target_converter(self):\n",
        "        A = []\n",
        "        output = []\n",
        "        x = 0\n",
        "\n",
        "        for i in self.x:\n",
        "            if (i not in A):\n",
        "                A.append(i)\n",
        "                self.x += 1\n",
        "            \n",
        "        for i in self.x:\n",
        "            x = A.index(i)\n",
        "            output.append(self.x)\n",
        "            \n",
        "        return(np.array(output))\n",
        "  \n"
      ],
      "metadata": {
        "id": "i_RQPWC1cJcK"
      },
      "execution_count": 24,
      "outputs": []
    },
    {
      "cell_type": "code",
      "source": [
        "obj2 = Output(X)\n",
        "obj2.nuron_drawhist()"
      ],
      "metadata": {
        "colab": {
          "base_uri": "https://localhost:8080/",
          "height": 297
        },
        "id": "GgVbA7q9gb4m",
        "outputId": "96017d9e-530d-447c-dfa6-855a45355cbe"
      },
      "execution_count": 25,
      "outputs": [
        {
          "output_type": "display_data",
          "data": {
            "image/png": "[encoded data removed]",
            "text/plain": [
              "<Figure size 432x288 with 3 Axes>"
            ]
          },
          "metadata": {
            "needs_background": "light"
          }
        }
      ]
    },
    {
      "cell_type": "code",
      "source": [
        "obj3 = Output(X)\n",
        "obj3.nuron_drawScatter()"
      ],
      "metadata": {
        "colab": {
          "base_uri": "https://localhost:8080/",
          "height": 248
        },
        "id": "CvQyyujSg-Ue",
        "outputId": "1c592d1a-29d5-435d-e3a8-3dacf51e900d"
      },
      "execution_count": 26,
      "outputs": [
        {
          "output_type": "display_data",
          "data": {
            "image/png": "[encoded data removed]",
            "text/plain": [
              "<Figure size 432x288 with 1 Axes>"
            ]
          },
          "metadata": {
            "needs_background": "light"
          }
        }
      ]
    }
  ]
}